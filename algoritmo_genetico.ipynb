{
 "cells": [
  {
   "cell_type": "markdown",
   "metadata": {},
   "source": [
    "# PROBLEMA DEL VIAJANTE (TSP)"
   ]
  },
  {
   "cell_type": "markdown",
   "metadata": {},
   "source": [
    "En el problema del viajante (TSP, por sus siglas en inglés), un vendedor debe visitar un \n",
    "conjunto de ciudades una sola vez y regresar a la ciudad de origen. \n",
    "El objetivo es minimizar la distancia total recorrida."
   ]
  },
  {
   "cell_type": "markdown",
   "metadata": {},
   "source": [
    "Este problema se vuelve más complejo a medida que van aumentando el número de ciudades, \n",
    "ya que la cantidad de rutas posibles crece exponencialmente. Por eso, resolverlo con fuerza \n",
    "bruta (es decir, evaluando todas las combinaciones posibles) se vuelve bastante impráctico o \n",
    "incluso imposible en términos de tiempo y recursos computacionales."
   ]
  },
  {
   "cell_type": "markdown",
   "metadata": {},
   "source": [
    "Un algoritmo genético (GA) es una herramienta muy adecuada para este tipo de problema, ya \n",
    "que puede explorar una gran cantidad de rutas posibles y utilizar principios evolutivos para \n",
    "encontrar, de manera eficiente, una solución que sea buena (aunque no necesariamente \n",
    "perfecta u óptima)"
   ]
  },
  {
   "cell_type": "markdown",
   "metadata": {},
   "source": [
    "## Implementación en Python\n",
    "\n",
    "### Criterio de selección: Inversa de la distancia total"
   ]
  },
  {
   "cell_type": "markdown",
   "metadata": {},
   "source": [
    "1º) Definimos una lista con los nombres de las ciudades (ciudades) y una matriz de distancias \n",
    "(matriz_distancias) que representa las distancias entre todas las ciudades. Implementamos una \n",
    "función llamada crear_poblacion_inicial( ) que genera rutas aleatorias (cromosomas), cada una \n",
    "representando un orden diferente para visitar las ciudades. Estas rutas se mezclan \n",
    "aleatoriamente para formar la población inicial que se usará en el algoritmo genético. \n"
   ]
  },
  {
   "cell_type": "code",
   "execution_count": 100,
   "metadata": {},
   "outputs": [
    {
     "name": "stdout",
     "output_type": "stream",
     "text": [
      "[[3, 4, 1, 5, 2, 0], [4, 1, 2, 3, 5, 0], [5, 3, 4, 1, 0, 2]]\n"
     ]
    }
   ],
   "source": [
    "import random\n",
    "\n",
    "random.seed(123)\n",
    "\n",
    "ciudades=['A','B','C','D','E','F']\n",
    "\n",
    "matriz_distancias=[\n",
    "    [0,29,20,21,50,31],\n",
    "    [29,0,50,29,55,40],\n",
    "    [20,50,0,15,14,25],\n",
    "    [21,29,15,0,19,36],\n",
    "    [50,55,14,19,0,27],\n",
    "    [31,40,25,36,27,0]\n",
    "]\n",
    "\n",
    "# Crear población inicial con rutas aleatorias\n",
    "\n",
    "def crear_poblacion_inicial(tamano_poblacion):\n",
    "    \"\"\"Genera una población inicial con dutas aleatorias.\"\"\"\n",
    "    poblacion=[]\n",
    "    \n",
    "    for _ in range(tamano_poblacion):\n",
    "        ruta=list(range(len(ciudades))) #Ruta con indices de ciudades\n",
    "        random.shuffle(ruta) #Mezclar el orden\n",
    "        poblacion.append(ruta)\n",
    "    \n",
    "    return poblacion\n",
    "\n",
    "#Ejemplo de uso\n",
    "print(crear_poblacion_inicial(3))"
   ]
  },
  {
   "cell_type": "markdown",
   "metadata": {},
   "source": [
    "La función calcular_distancia( ) toma una ruta (una lista de índices de ciudades) y suma las \n",
    "distancias entre cada ciudad consecutiva, después del último salto, agrega la distancia de \n",
    "regreso a la ciudad de inicio, cerrando el circuito y devuelve la distancia total recorrida por \n",
    "esa ruta"
   ]
  },
  {
   "cell_type": "code",
   "execution_count": 101,
   "metadata": {},
   "outputs": [
    {
     "name": "stdout",
     "output_type": "stream",
     "text": [
      "147\n"
     ]
    }
   ],
   "source": [
    "def calcular_distancia(ruta):\n",
    "    \"\"\"Calculamos la distancia total de una ruta usando la matriz de distancias\"\"\"\n",
    "    distancia=0\n",
    "    for i in range(len(ruta)-1):   #hasta el antepenultimo\n",
    "        ciudad_actual=ruta[i]\n",
    "        ciudad_siguiente=ruta[i+1]\n",
    "        distancia+=matriz_distancias[ciudad_actual][ciudad_siguiente]\n",
    "        \n",
    "    #Añadir el regreso al punto inicial\n",
    "    distancia+=matriz_distancias[ruta[-1]][ruta[0]]\n",
    "    return distancia\n",
    "\n",
    "#Ejemplo de uso\n",
    "print(calcular_distancia([3,4,2,5,0,1]))"
   ]
  },
  {
   "cell_type": "markdown",
   "metadata": {},
   "source": [
    "Implementamos un cruce ordenado (Ordered Crossover), seleccionamos aleatoriamente un \n",
    "segmento del primer padre y lo copia al hijo, luego rellenamos el resto con genes del \n",
    "segundo padre sin repetir ciudades. El resultado es una nueva ruta que mezcla información de \n",
    "ambos padres de manera válida."
   ]
  },
  {
   "cell_type": "code",
   "execution_count": 102,
   "metadata": {},
   "outputs": [
    {
     "name": "stdout",
     "output_type": "stream",
     "text": [
      "[4, 3, 2, 5, 1, 0]\n"
     ]
    }
   ],
   "source": [
    "def cruce(padre1,padre2):\n",
    "    \"\"\"Cruce ordenado entre dos padres para generar un hijo\"\"\"\n",
    "    hijo=[-1]*len(ciudades) #Hijo vacio, con valores -1\n",
    "    inicio,fin=sorted(random.sample(range(len(ciudades)),2))\n",
    "    \n",
    "    #Copiar un segmento del padre1 al hijo\n",
    "    hijo[inicio:fin]=padre1[inicio:fin]\n",
    "    \n",
    "    #Rellenar con los genes del padre2, respetando el orden y evitando duplicados\n",
    "    pos_padre2=0\n",
    "    for i in range(len(ciudades)):\n",
    "        if hijo[i]==-1:\n",
    "            while padre2[pos_padre2] in hijo:\n",
    "                pos_padre2+=1\n",
    "            \n",
    "            hijo[i]=padre2[pos_padre2]\n",
    "    \n",
    "    return hijo\n",
    "\n",
    "#Ejemplo de uso\n",
    "print(cruce([3,4,2,5,0,1],[4,2,3,1,0,5]))"
   ]
  },
  {
   "cell_type": "markdown",
   "metadata": {},
   "source": [
    "Recorre cada ciudad en la ruta, en cada posición, con cierta probabilidad (tasa_mutacion), \n",
    "intercambia la ciudad con otra aleatoria lo que permite introducir variabilidad y evitar que el \n",
    "algoritmo quede atrapado en soluciones locales"
   ]
  },
  {
   "cell_type": "code",
   "execution_count": 103,
   "metadata": {},
   "outputs": [
    {
     "name": "stdout",
     "output_type": "stream",
     "text": [
      "[0, 5, 2, 1, 4, 3]\n"
     ]
    }
   ],
   "source": [
    "def mutar(ruta,tasa_mutacion):\n",
    "    \"\"\"Intercambia ciudades en una ruta aleatoriamente,según la tasa de mutación\"\"\"\n",
    "    for i in range(len(ciudades)):\n",
    "        if random.random()<tasa_mutacion:\n",
    "            intercambiar_con=random.randint(0,len(ruta)-1) #hasta el antepenultimo\n",
    "            ruta[i],ruta[intercambiar_con]=ruta[intercambiar_con], ruta[i]\n",
    "    \n",
    "    return ruta\n",
    "\n",
    "#Ejemplo de uso\n",
    "print(mutar([4,3,2,5,0,1],0.5))"
   ]
  },
  {
   "cell_type": "markdown",
   "metadata": {},
   "source": [
    "Usamos la función calcular_distancia() para obtener la distancia total de cada ruta, creamos una lista de tuplas con la forma: \n",
    "\n",
    "    [(ruta_1,distancia_1),(ruta_2,distancia_2),...]\n",
    "\n",
    "Luego ordenamos la población según su desempeño: menor distancia = mayor aptitud. "
   ]
  },
  {
   "cell_type": "code",
   "execution_count": 104,
   "metadata": {},
   "outputs": [
    {
     "name": "stdout",
     "output_type": "stream",
     "text": [
      "[([3, 4, 2, 5, 0, 1], 147), ([4, 1, 0, 2, 5, 3], 184)]\n"
     ]
    }
   ],
   "source": [
    "def ordenar_poblacion(poblacion):\n",
    "    \"\"\"Ordena la población por distancia total(menor es mejor).\"\"\"\n",
    "    resultados=[(ruta,calcular_distancia(ruta)) for ruta in poblacion]\n",
    "    return sorted(resultados,key=lambda x:x[1])  #la mejor ruta dada la poblacion original\n",
    "\n",
    "#Ejemplo de uso\n",
    "print(ordenar_poblacion([\n",
    "    [4,1,0,2,5,3],\n",
    "    [3,4,2,5,0,1]\n",
    "]))"
   ]
  },
  {
   "cell_type": "markdown",
   "metadata": {},
   "source": [
    "Pasamos la población ya ordenada por desempeño (menor distancia primero), extrae las \n",
    "primeras n rutas, según el tamano_elite, y las selecciona como los mejores individuos que \n",
    "pasarán automáticamente a la siguiente generación. Este proceso simula la selección natural, \n",
    "donde solo los mejores sobreviven sin cambios"
   ]
  },
  {
   "cell_type": "code",
   "execution_count": 105,
   "metadata": {},
   "outputs": [
    {
     "data": {
      "text/plain": [
       "[[3, 4, 2, 5, 0, 1]]"
      ]
     },
     "execution_count": 105,
     "metadata": {},
     "output_type": "execute_result"
    }
   ],
   "source": [
    "def seleccion(poblacion_ordenada,tamano_elite):\n",
    "    \"\"\"Selecciona las rutas élite para la siguiente etapa.\"\"\"\n",
    "    resultados=[poblacion_ordenada[i][0] for i in range(tamano_elite)]\n",
    "    return resultados\n",
    "\n",
    "#Ejemplo de uso\n",
    "seleccion(\n",
    "    [([3,4,2,5,0,1],147),([4,1,0,2,5,3],184)],1\n",
    ")"
   ]
  },
  {
   "cell_type": "markdown",
   "metadata": {},
   "source": [
    "Aplica los tres pilares del algoritmo genético: selección, cruce, y mutación. \n",
    "Se selecciona un conjunto élite que se conserva sin cambios, luego se generan hijos nuevos a \n",
    "partir de ese grupo, usando recombinación y mutación. El resultado es una nueva generación \n",
    "más adaptada que la anterior. "
   ]
  },
  {
   "cell_type": "code",
   "execution_count": 106,
   "metadata": {},
   "outputs": [
    {
     "data": {
      "text/plain": [
       "[[0, 5, 2, 4, 1, 3],\n",
       " [4, 1, 0, 3, 5, 2],\n",
       " [0, 5, 2, 4, 1, 3],\n",
       " [1, 0, 2, 4, 3, 5],\n",
       " [4, 1, 0, 3, 5, 2]]"
      ]
     },
     "execution_count": 106,
     "metadata": {},
     "output_type": "execute_result"
    }
   ],
   "source": [
    "def evolucionar_poblacion_clasico(poblacion,tamano_elite,tasa_mutacion):\n",
    "    \"\"\"Evolucionamos la población mediante selección,cruce y mutación.\"\"\"\n",
    "    poblacion_ordenada=ordenar_poblacion(poblacion)\n",
    "    seleccionados=seleccion(poblacion_ordenada,tamano_elite)\n",
    "    \n",
    "    hijos=[]\n",
    "    for _ in range(len(poblacion)-tamano_elite):\n",
    "        padre1=random.choice(seleccionados)\n",
    "        padre2=random.choice(seleccionados)\n",
    "        hijo=cruce(padre1,padre2)\n",
    "        hijo_mutado=mutar(hijo,tasa_mutacion)\n",
    "        hijos.append(hijo_mutado)\n",
    "        \n",
    "    nueva_generacion=seleccionados+hijos\n",
    "    return nueva_generacion\n",
    "\n",
    "#Ejemplo de uso\n",
    "evolucionar_poblacion_clasico(\n",
    "    [\n",
    "        [4,1,3,5,0,2],\n",
    "        [0,5,2,4,1,3],\n",
    "        [0,1,4,5,3,2],\n",
    "        [3,5,0,2,4,1],\n",
    "        [4,1,0,3,5,2]\n",
    "    ],\n",
    "    2,\n",
    "    0.01\n",
    ")\n",
    "\n"
   ]
  },
  {
   "cell_type": "markdown",
   "metadata": {},
   "source": [
    "Este bloque simula una población de rutas que evoluciona generación tras generación, \n",
    "buscando la mejor forma de recorrer todas las ciudades con la menor distancia posible. \n",
    "Primero, se generan rutas aleatorias; luego, a lo largo de 50 generaciones, las mejores rutas se \n",
    "cruzan, mutan y se seleccionan, como si estuvieran compitiendo por sobrevivir. En cada paso, \n",
    "se guarda la distancia de la mejor solución encontrada. "
   ]
  },
  {
   "cell_type": "code",
   "execution_count": 107,
   "metadata": {},
   "outputs": [
    {
     "name": "stdout",
     "output_type": "stream",
     "text": [
      "Mejor Ruta: D-->C-->E-->F-->A-->B\n",
      "Distancia total 145\n"
     ]
    },
    {
     "data": {
      "image/png": "[encoded data removed]",
      "text/plain": [
       "<Figure size 1000x500 with 1 Axes>"
      ]
     },
     "metadata": {},
     "output_type": "display_data"
    }
   ],
   "source": [
    "import matplotlib.pyplot as plt\n",
    "\n",
    "tamano_poblacion=6\n",
    "tamano_elite=3\n",
    "tasa_mutacion=0.1\n",
    "generaciones=50\n",
    "historial_distancias_clasico=[]\n",
    "\n",
    "#Crear poblacion inicial\n",
    "poblacion=crear_poblacion_inicial(tamano_poblacion)  #una poblacion, 6 rutas\n",
    "\n",
    "#Ejecutar evolucion por generaciones\n",
    "for gen in range(generaciones):\n",
    "    poblacion=evolucionar_poblacion_clasico(poblacion,tamano_elite,tasa_mutacion)\n",
    "    mejor_ruta=ordenar_poblacion(poblacion)[0]\n",
    "    historial_distancias_clasico.append(mejor_ruta[1])\n",
    "\n",
    "#Mostrar la mejor ruta final\n",
    "mejor_ruta=ordenar_poblacion(poblacion)[0][0]  \n",
    "mejor_distancia=ordenar_poblacion(poblacion)[0][1]\n",
    "nombres_ciudades=[ciudades[i] for i in mejor_ruta]\n",
    "\n",
    "#Imprimir resultados\n",
    "print(\"Mejor Ruta:\",\"-->\".join(nombres_ciudades))\n",
    "print(f\"Distancia total {mejor_distancia}\")\n",
    "\n",
    "#Graficar evolución de la distancia\n",
    "\n",
    "plt.figure(figsize=(10,5))\n",
    "plt.plot(historial_distancias_clasico,marker='o', color='blue')\n",
    "plt.title(\"Evolución de la mejor distancia por generación\")\n",
    "plt.xlabel(\"Generación\")\n",
    "plt.ylabel(\"Distancia (km)\")\n",
    "plt.grid(True)\n",
    "plt.tight_layout()\n",
    "plt.show()\n",
    "\n",
    "\n"
   ]
  },
  {
   "cell_type": "code",
   "execution_count": 108,
   "metadata": {},
   "outputs": [
    {
     "data": {
      "text/plain": [
       "[146, 146, 146, 146, 146, 146]"
      ]
     },
     "execution_count": 108,
     "metadata": {},
     "output_type": "execute_result"
    }
   ],
   "source": [
    "historial_distancias_clasico[:6]"
   ]
  },
  {
   "cell_type": "markdown",
   "metadata": {},
   "source": [
    "Al final, el algoritmo imprime la mejor ruta en lenguaje humano (A → B → C...) y muestra una \n",
    "gráfica que revela visualmente cómo esa solución fue mejorando con el tiempo, hasta \n",
    "estabilizarse."
   ]
  },
  {
   "cell_type": "markdown",
   "metadata": {},
   "source": [
    "¿Qué podemos observar?\n",
    "\n",
    "- Al inicio (generaciones de 0 a 10) la distancia comienza en 146km.\n",
    "- A partir de la generaciones 11, el algoritmo mejora y alcanza una distancia de 145km durante el resto de generaciones."
   ]
  },
  {
   "cell_type": "markdown",
   "metadata": {},
   "source": [
    "Esto indica que el algoritmo encontró una solución sólida y no mejoró más después de \n",
    "cierto punto, lo cual es bastante común en algoritmos evolutivos: encuentran un óptimo local \n",
    "(o cercano al global) y se estabilizan."
   ]
  },
  {
   "cell_type": "markdown",
   "metadata": {},
   "source": [
    "** Idea de proyecto **\n",
    "\n",
    "Hacer este modelo pero en vez de tener como criterio de seleccion la aptitud = la inversa de la distancia total, tenemos como criterio de seleccion el mejor r cuadrado ajsutado de una regresion. Y comparamos las soluciones de ambos criterios a ver si coinciden."
   ]
  },
  {
   "cell_type": "markdown",
   "metadata": {},
   "source": [
    "## Implementación en Python\n",
    "\n",
    "### Criterio: distancia mínima que predice el modelo lineal simple"
   ]
  },
  {
   "cell_type": "markdown",
   "metadata": {},
   "source": [
    "Para incorporar la regresión lineal en este algoritmo genético, con el objetivo de usar las distancias predichas como criterio de selección, debemos realizar algunas modificaciones clave. La regresión lineal se utilizará para predecir las distancias en función de las rutas generadas por el algoritmo genético. Luego, estas predicciones de distancia serán utilizadas para ordenar la población y seleccionar los individuos con las distancias más cortas, como si fueran las \"mejores\" rutas."
   ]
  },
  {
   "cell_type": "markdown",
   "metadata": {},
   "source": [
    "- Modelo de regresión lineal: Utilizamos un modelo de regresión lineal para predecir las distancias. Las rutas de las poblaciones son las variables predictoras y las distancias reales entre ciudades son las variables a predecir.\n",
    "\n",
    "- Predicción de distancias: Después de crear el modelo de regresión, predicimos las distancias para las rutas de cada generación.\n",
    "\n",
    "- Criterio de selección: Las distancias predichas se usarán como criterio de selección, donde las rutas con menor distancia predicha serán seleccionadas."
   ]
  },
  {
   "cell_type": "code",
   "execution_count": 109,
   "metadata": {},
   "outputs": [],
   "source": [
    "import numpy as np\n",
    "from sklearn.linear_model import LinearRegression"
   ]
  },
  {
   "cell_type": "code",
   "execution_count": 110,
   "metadata": {},
   "outputs": [],
   "source": [
    "random.seed(123)\n",
    "\n",
    "ciudades = ['A', 'B', 'C', 'D', 'E', 'F']\n",
    "\n",
    "matriz_distancias = [\n",
    "    [0, 29, 20, 21, 50, 31],\n",
    "    [29, 0, 50, 29, 55, 40],\n",
    "    [20, 50, 0, 15, 14, 25],\n",
    "    [21, 29, 15, 0, 19, 36],\n",
    "    [50, 55, 14, 19, 0, 27],\n",
    "    [31, 40, 25, 36, 27, 0]\n",
    "]"
   ]
  },
  {
   "cell_type": "code",
   "execution_count": 111,
   "metadata": {},
   "outputs": [],
   "source": [
    "def crear_poblacion_inicial(tamano_poblacion):\n",
    "    poblacion = []\n",
    "    for _ in range(tamano_poblacion):\n",
    "        ruta = list(range(len(ciudades)))  # Ruta con indices de ciudades\n",
    "        random.shuffle(ruta)  # Mezclar el orden\n",
    "        poblacion.append(ruta)\n",
    "    return poblacion"
   ]
  },
  {
   "cell_type": "code",
   "execution_count": 112,
   "metadata": {},
   "outputs": [],
   "source": [
    "def calcular_distancia(ruta):\n",
    "    \"\"\"Calculamos la distancia total de una ruta usando la matriz de distancias\"\"\"\n",
    "    distancia = 0\n",
    "    for i in range(len(ruta)-1):   # hasta el antepenúltimo\n",
    "        ciudad_actual = ruta[i]\n",
    "        ciudad_siguiente = ruta[i+1]\n",
    "        distancia += matriz_distancias[ciudad_actual][ciudad_siguiente]\n",
    "        \n",
    "    # Añadir el regreso al punto inicial\n",
    "    distancia += matriz_distancias[ruta[-1]][ruta[0]]\n",
    "    return distancia"
   ]
  },
  {
   "cell_type": "code",
   "execution_count": 113,
   "metadata": {},
   "outputs": [],
   "source": [
    "def cruce(padre1, padre2):\n",
    "    \"\"\"Cruce ordenado entre dos padres para generar un hijo\"\"\"\n",
    "    hijo = [-1] * len(ciudades)  # Hijo vacío, con valores -1\n",
    "    inicio, fin = sorted(random.sample(range(len(ciudades)), 2))\n",
    "    \n",
    "    # Copiar un segmento del padre1 al hijo\n",
    "    hijo[inicio:fin] = padre1[inicio:fin]\n",
    "    \n",
    "    # Rellenar con los genes del padre2, respetando el orden y evitando duplicados\n",
    "    pos_padre2 = 0\n",
    "    for i in range(len(ciudades)):\n",
    "        if hijo[i] == -1:\n",
    "            while padre2[pos_padre2] in hijo:\n",
    "                pos_padre2 += 1\n",
    "            hijo[i] = padre2[pos_padre2]\n",
    "    \n",
    "    return hijo"
   ]
  },
  {
   "cell_type": "code",
   "execution_count": 114,
   "metadata": {},
   "outputs": [],
   "source": [
    "def mutar(ruta, tasa_mutacion):\n",
    "    \"\"\"Intercambia ciudades en una ruta aleatoriamente, según la tasa de mutación\"\"\"\n",
    "    for i in range(len(ciudades)):\n",
    "        if random.random() < tasa_mutacion:\n",
    "            intercambiar_con = random.randint(0, len(ruta)-1)  # hasta el antepenúltimo\n",
    "            ruta[i], ruta[intercambiar_con] = ruta[intercambiar_con], ruta[i]\n",
    "    return ruta"
   ]
  },
  {
   "cell_type": "code",
   "execution_count": 115,
   "metadata": {},
   "outputs": [],
   "source": [
    "def ordenar_poblacion(poblacion, modelo_regresion=None):\n",
    "    \"\"\"Ordena la población por las distancias predichas (menor es mejor).\"\"\"\n",
    "    if modelo_regresion is None:\n",
    "        # Si no hay modelo de regresión, usar la distancia real\n",
    "        resultados = [(ruta, calcular_distancia(ruta)) for ruta in poblacion]\n",
    "    else:\n",
    "        # Si hay modelo de regresión, predecir las distancias\n",
    "        rutas = np.array([ruta for ruta in poblacion])\n",
    "        distancias_predichas = modelo_regresion.predict(rutas)\n",
    "        resultados = list(zip(poblacion, distancias_predichas))\n",
    "    \n",
    "    # Devuelve las rutas ordenadas por las distancias predichas\n",
    "    return sorted(resultados, key=lambda x: x[1])  # la mejor ruta dada la población original\n"
   ]
  },
  {
   "cell_type": "code",
   "execution_count": 116,
   "metadata": {},
   "outputs": [],
   "source": [
    "def seleccion(poblacion_ordenada, tamano_elite):\n",
    "    \"\"\"Selecciona las rutas élite para la siguiente etapa.\"\"\"\n",
    "    resultados = [poblacion_ordenada[i][0] for i in range(tamano_elite)]\n",
    "    return resultados"
   ]
  },
  {
   "cell_type": "code",
   "execution_count": 117,
   "metadata": {},
   "outputs": [],
   "source": [
    "def evolucionar_poblacion(poblacion, tamano_elite, tasa_mutacion, modelo_regresion=None):\n",
    "    \"\"\"Evolucionamos la población mediante selección, cruce y mutación.\"\"\"\n",
    "    poblacion_ordenada = ordenar_poblacion(poblacion, modelo_regresion)\n",
    "    seleccionados = seleccion(poblacion_ordenada, tamano_elite)\n",
    "    \n",
    "    hijos = []\n",
    "    for _ in range(len(poblacion) - tamano_elite):\n",
    "        padre1 = random.choice(seleccionados)\n",
    "        padre2 = random.choice(seleccionados)\n",
    "        hijo = cruce(padre1, padre2)\n",
    "        hijo_mutado = mutar(hijo, tasa_mutacion)\n",
    "        hijos.append(hijo_mutado)\n",
    "        \n",
    "    nueva_generacion = seleccionados + hijos\n",
    "    return nueva_generacion"
   ]
  },
  {
   "cell_type": "code",
   "execution_count": 118,
   "metadata": {},
   "outputs": [],
   "source": [
    "# Generar datos para la regresión lineal\n",
    "def generar_datos_regresion(poblacion):\n",
    "    \"\"\"Genera datos para entrenar un modelo de regresión lineal sobre las rutas.\"\"\"\n",
    "    X = []\n",
    "    y = []\n",
    "    for ruta in poblacion:\n",
    "        X.append(ruta)  # Usamos la ruta como las variables predictoras (características)\n",
    "        y.append(calcular_distancia(ruta))  # La distancia real es el valor a predecir\n",
    "    return np.array(X), np.array(y)"
   ]
  },
  {
   "cell_type": "code",
   "execution_count": 119,
   "metadata": {},
   "outputs": [],
   "source": [
    "# Entrenar el modelo de regresión lineal\n",
    "def entrenar_modelo(poblacion):\n",
    "    X, y = generar_datos_regresion(poblacion)\n",
    "    modelo = LinearRegression()\n",
    "    modelo.fit(X, y)\n",
    "    return modelo"
   ]
  },
  {
   "cell_type": "code",
   "execution_count": 120,
   "metadata": {},
   "outputs": [],
   "source": [
    "# Parametros del algoritmo\n",
    "tamano_poblacion = 6\n",
    "tamano_elite = 3\n",
    "tasa_mutacion = 0.1\n",
    "generaciones = 50\n",
    "historial_distancias_predichas_regresion = []  # Lista para almacenar las distancias predichas\n",
    "\n",
    "# Crear población inicial\n",
    "poblacion = crear_poblacion_inicial(tamano_poblacion)"
   ]
  },
  {
   "cell_type": "code",
   "execution_count": 121,
   "metadata": {},
   "outputs": [
    {
     "name": "stdout",
     "output_type": "stream",
     "text": [
      "Mejor Ruta: C-->F-->B-->E-->A-->D\n",
      "Distancia total predicha: 152.04761904761904\n"
     ]
    }
   ],
   "source": [
    "# Entrenar el modelo de regresión\n",
    "modelo_regresion = entrenar_modelo(poblacion)\n",
    "\n",
    "# Ejecutar evolución por generaciones\n",
    "for gen in range(generaciones):\n",
    "    poblacion = evolucionar_poblacion(poblacion, tamano_elite, tasa_mutacion, modelo_regresion)\n",
    "    poblacion_ordenada = ordenar_poblacion(poblacion, modelo_regresion)  # Obtener la población ordenada\n",
    "    mejor_ruta = poblacion_ordenada[0]  # Mejor ruta de la generación\n",
    "    historial_distancias_predichas_regresion.append(mejor_ruta[1])  # Guardar la distancia predicha\n",
    "\n",
    "# Mostrar la mejor ruta final\n",
    "mejor_ruta = ordenar_poblacion(poblacion, modelo_regresion)[0][0]\n",
    "mejor_distancia = ordenar_poblacion(poblacion, modelo_regresion)[0][1]\n",
    "nombres_ciudades = [ciudades[i] for i in mejor_ruta]\n",
    "\n",
    "# Imprimir resultados\n",
    "print(\"Mejor Ruta:\", \"-->\".join(nombres_ciudades))\n",
    "print(f\"Distancia total predicha: {mejor_distancia}\")"
   ]
  },
  {
   "cell_type": "code",
   "execution_count": 122,
   "metadata": {},
   "outputs": [
    {
     "data": {
      "image/png": "[encoded data removed]",
      "text/plain": [
       "<Figure size 1000x500 with 1 Axes>"
      ]
     },
     "metadata": {},
     "output_type": "display_data"
    }
   ],
   "source": [
    "# Graficar evolución de la distancia predicha\n",
    "plt.figure(figsize=(10, 5))\n",
    "plt.plot(historial_distancias_predichas, marker='o', color='blue')\n",
    "plt.title(\"Evolución de la mejor distancia predicha por generación\")\n",
    "plt.xlabel(\"Generación\")\n",
    "plt.ylabel(\"Distancia (km)\")\n",
    "plt.grid(True)\n",
    "plt.tight_layout()\n",
    "plt.show()"
   ]
  },
  {
   "cell_type": "code",
   "execution_count": 123,
   "metadata": {},
   "outputs": [
    {
     "data": {
      "text/plain": [
       "[172.0,\n",
       " 162.14285714285717,\n",
       " 162.14285714285717,\n",
       " 162.14285714285717,\n",
       " 154.3452380952381,\n",
       " 154.3452380952381]"
      ]
     },
     "execution_count": 123,
     "metadata": {},
     "output_type": "execute_result"
    }
   ],
   "source": [
    "historial_distancias_predichas_regresion[:6]"
   ]
  },
  {
   "cell_type": "markdown",
   "metadata": {},
   "source": [
    "## Comparación del modelo clásico VS modelo regresión lineal"
   ]
  },
  {
   "cell_type": "code",
   "execution_count": 124,
   "metadata": {},
   "outputs": [
    {
     "data": {
      "image/png": "[encoded data removed]",
      "text/plain": [
       "<Figure size 1000x500 with 1 Axes>"
      ]
     },
     "metadata": {},
     "output_type": "display_data"
    }
   ],
   "source": [
    "plt.figure(figsize=(10, 5))\n",
    "plt.plot(historial_distancias_clasico, marker='o', color='blue',label=\"Modelo Clásico\")\n",
    "plt.plot(historial_distancias_predichas_regresion,marker='x',color='r',label=\"Modelo Regresión Lineal\")\n",
    "plt.title(\"Evolución de la mejor distancia predicha por generación\")\n",
    "plt.xlabel(\"Generación\")\n",
    "plt.ylabel(\"Distancia (km)\")\n",
    "plt.legend()\n",
    "plt.grid(True)\n",
    "plt.tight_layout()\n",
    "plt.show()"
   ]
  },
  {
   "cell_type": "code",
   "execution_count": 125,
   "metadata": {},
   "outputs": [
    {
     "name": "stdout",
     "output_type": "stream",
     "text": [
      "Desviación estándar del modelo clásico: 0.4\n",
      "Desviación estándar del modelo de regresión: 3.447507142685313\n"
     ]
    }
   ],
   "source": [
    "# Análisis de la dispersión\n",
    "\n",
    "# Desviación estándar para el modelo clásico y el modelo de regresión\n",
    "std_clasico = np.std(historial_distancias_clasico)\n",
    "std_regresion = np.std(historial_distancias_predichas_regresion)\n",
    "\n",
    "print(f\"Desviación estándar del modelo clásico: {std_clasico}\")\n",
    "print(f\"Desviación estándar del modelo de regresión: {std_regresion}\")\n"
   ]
  },
  {
   "cell_type": "code",
   "execution_count": 126,
   "metadata": {},
   "outputs": [
    {
     "name": "stdout",
     "output_type": "stream",
     "text": [
      "Porcentaje de coincidencia: 92.0%\n"
     ]
    }
   ],
   "source": [
    "# Porcentaje de coincidencia\n",
    "distancia_tolerancia=10 #10km de margen\n",
    "\n",
    "coincidencias = np.sum(np.isclose(historial_distancias_clasico, historial_distancias_predichas_regresion, atol=distancia_tolerancia))  \n",
    "porcentaje_coincidencia = (coincidencias / len(historial_distancias_clasico)) * 100\n",
    "\n",
    "print(f\"Porcentaje de coincidencia: {porcentaje_coincidencia}%\")\n"
   ]
  },
  {
   "cell_type": "markdown",
   "metadata": {},
   "source": [
    "El modelo clásico se estabiliza mucho antes y consigue encontrar una ruta cuya distancia es 145km.\n",
    "El modelo de regresión lineal tarda en estabilizarse algo más y consigue encontrar una ruta cuya distancia es 152km. \n",
    "La diferencia de optimizacion de la distancia es de 7km, es prácticamente desdeñable y ambos modelos nos permiten encontrar las rutas mas cortas, pero de optar unicamente por una, es preferible el modelo clásico."
   ]
  }
 ],
 "metadata": {
  "kernelspec": {
   "display_name": "base",
   "language": "python",
   "name": "python3"
  },
  "language_info": {
   "codemirror_mode": {
    "name": "ipython",
    "version": 3
   },
   "file_extension": ".py",
   "mimetype": "text/x-python",
   "name": "python",
   "nbconvert_exporter": "python",
   "pygments_lexer": "ipython3",
   "version": "3.11.5"
  }
 },
 "nbformat": 4,
 "nbformat_minor": 2
}
